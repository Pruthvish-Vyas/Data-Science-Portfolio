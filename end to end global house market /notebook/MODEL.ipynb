{
 "cells": [
  {
   "cell_type": "code",
   "execution_count": 11,
   "id": "3c9acef0",
   "metadata": {},
   "outputs": [],
   "source": [
    "import pandas as pd \n",
    "from scipy.stats import randint, uniform\n",
    "from sklearn.linear_model import LinearRegression\n",
    "from sklearn.model_selection import RandomizedSearchCV\n",
    "from sklearn.ensemble import RandomForestRegressor\n",
    "from sklearn.metrics import accuracy_score\n",
    "from sklearn.model_selection import train_test_split\n",
    "from sklearn.preprocessing import LabelEncoder\n",
    "from sklearn.metrics import r2_score, mean_squared_error\n",
    "import warnings\n",
    "warnings.filterwarnings('ignore')"
   ]
  },
  {
   "cell_type": "code",
   "execution_count": 2,
   "id": "075ca849",
   "metadata": {},
   "outputs": [
    {
     "name": "stdout",
     "output_type": "stream",
     "text": [
      "<class 'pandas.core.frame.DataFrame'>\n",
      "RangeIndex: 200 entries, 0 to 199\n",
      "Data columns (total 11 columns):\n",
      " #   Column                 Non-Null Count  Dtype  \n",
      "---  ------                 --------------  -----  \n",
      " 0   Country                200 non-null    object \n",
      " 1   Year                   200 non-null    int64  \n",
      " 2   House Price Index      200 non-null    float64\n",
      " 3   Rent Index             200 non-null    float64\n",
      " 4   Affordability Ratio    200 non-null    float64\n",
      " 5   Mortgage Rate (%)      200 non-null    float64\n",
      " 6   Inflation Rate (%)     200 non-null    float64\n",
      " 7   GDP Growth (%)         200 non-null    float64\n",
      " 8   Population Growth (%)  200 non-null    float64\n",
      " 9   Urbanization Rate (%)  200 non-null    float64\n",
      " 10  Construction Index     200 non-null    float64\n",
      "dtypes: float64(9), int64(1), object(1)\n",
      "memory usage: 17.3+ KB\n"
     ]
    }
   ],
   "source": [
    "df = df = pd.read_csv(r'data\\global_housing_market_extended.csv')\n",
    "df.info()\n"
   ]
  },
  {
   "cell_type": "code",
   "execution_count": 3,
   "id": "58acf5d5",
   "metadata": {},
   "outputs": [
    {
     "name": "stdout",
     "output_type": "stream",
     "text": [
      "<class 'pandas.core.frame.DataFrame'>\n",
      "RangeIndex: 200 entries, 0 to 199\n",
      "Data columns (total 11 columns):\n",
      " #   Column                 Non-Null Count  Dtype  \n",
      "---  ------                 --------------  -----  \n",
      " 0   Country                200 non-null    int32  \n",
      " 1   Year                   200 non-null    int64  \n",
      " 2   House Price Index      200 non-null    float64\n",
      " 3   Rent Index             200 non-null    float64\n",
      " 4   Affordability Ratio    200 non-null    float64\n",
      " 5   Mortgage Rate (%)      200 non-null    float64\n",
      " 6   Inflation Rate (%)     200 non-null    float64\n",
      " 7   GDP Growth (%)         200 non-null    float64\n",
      " 8   Population Growth (%)  200 non-null    float64\n",
      " 9   Urbanization Rate (%)  200 non-null    float64\n",
      " 10  Construction Index     200 non-null    float64\n",
      "dtypes: float64(9), int32(1), int64(1)\n",
      "memory usage: 16.5 KB\n"
     ]
    }
   ],
   "source": [
    "for col in df.select_dtypes(include='object').columns:\n",
    "    le = LabelEncoder()\n",
    "    df[col] = le.fit_transform(df[col])\n",
    "\n",
    "df.info()\n",
    "\n"
   ]
  },
  {
   "cell_type": "code",
   "execution_count": 4,
   "id": "045da614",
   "metadata": {},
   "outputs": [],
   "source": [
    "X = df.drop('Rent Index', axis=1)\n",
    "y = df['Rent Index']\n",
    "\n",
    "X_train, X_test, y_train, y_test = train_test_split(X, y , test_size=0.2, random_state=42)"
   ]
  },
  {
   "cell_type": "code",
   "execution_count": 12,
   "id": "f0934bc4",
   "metadata": {},
   "outputs": [
    {
     "name": "stdout",
     "output_type": "stream",
     "text": [
      "MSE: 396.26837544251947\n"
     ]
    }
   ],
   "source": [
    "\n",
    "model = LinearRegression()\n",
    "model.fit(X_train, y_train)\n",
    "y_pred = model.predict(X_test)\n",
    "\n",
    "print(f\"MSE: {mean_squared_error(y_test, y_pred)}\")\n"
   ]
  }
 ],
 "metadata": {
  "kernelspec": {
   "display_name": ".venv",
   "language": "python",
   "name": "python3"
  },
  "language_info": {
   "codemirror_mode": {
    "name": "ipython",
    "version": 3
   },
   "file_extension": ".py",
   "mimetype": "text/x-python",
   "name": "python",
   "nbconvert_exporter": "python",
   "pygments_lexer": "ipython3",
   "version": "3.10.11"
  }
 },
 "nbformat": 4,
 "nbformat_minor": 5
}
